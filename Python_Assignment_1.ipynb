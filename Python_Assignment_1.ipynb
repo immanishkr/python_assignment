{
 "cells": [
  {
   "cell_type": "code",
   "execution_count": null,
   "id": "4118a300-ecfb-4520-b886-880570937131",
   "metadata": {},
   "outputs": [],
   "source": [
    "# Python_assignment_1"
   ]
  },
  {
   "cell_type": "code",
   "execution_count": null,
   "id": "347751db-9cda-4891-a37d-28f9b08a4815",
   "metadata": {},
   "outputs": [],
   "source": [
    "#Part 1: Operators\n",
    "\n",
    "#Exercise 1: Arithmetic Operators\n",
    "\n",
    "#Write a Python program to perform the following operations:\n",
    "1. Add, subtract, multiply, and divide two numbers (input by the user). \n",
    "2. Use the modulus operator to find the remainder of their division.\n",
    "3. Use the exponentiation operator to raise the first number to the power of the second number.\n",
    "4. Perform floor division on the two numbers.\n"
   ]
  },
  {
   "cell_type": "code",
   "execution_count": null,
   "id": "5e7be25a-9a82-4676-9efb-d30d40f26ab7",
   "metadata": {},
   "outputs": [],
   "source": [
    "#  Add, subtract, multiply, and divide two numbers (input by the user)."
   ]
  },
  {
   "cell_type": "code",
   "execution_count": 77,
   "id": "8b304449-59ee-47d2-905c-83355b86e296",
   "metadata": {},
   "outputs": [
    {
     "name": "stdin",
     "output_type": "stream",
     "text": [
      "Enter the first number:  10\n",
      "Enter the second number:  3\n"
     ]
    },
    {
     "name": "stdout",
     "output_type": "stream",
     "text": [
      "\n",
      "Addition: 10.0 + 3.0 = 13.0\n",
      "Subtraction: 10.0 - 3.0 = 7.0\n",
      "Multiplication: 10.0 * 3.0 = 30.0\n",
      "Division: 10.0 / 3.0 = 3.3333333333333335\n"
     ]
    }
   ],
   "source": [
    "# Get user input for two numbers\n",
    "n1 = float(input(\"Enter the first number: \"))\n",
    "n2 = float(input(\"Enter the second number: \"))\n",
    "\n",
    "#Perform calculations\n",
    "add = n1 + n2\n",
    "sub = n1 - n2\n",
    "multi = n1 * n2\n",
    "\n",
    "#division by zero\n",
    "if n2 != 0:\n",
    "    division = n1 / n2\n",
    "else:\n",
    "    division = \"undefined (cannot divide by zero)\"\n",
    "\n",
    "# Display results\n",
    "print(f\"\\nAddition: {n1} + {n2} = {add}\")\n",
    "print(f\"Subtraction: {n1} - {n2} = {sub}\")\n",
    "print(f\"Multiplication: {n1} * {n2} = {multi}\")\n",
    "print(f\"Division: {n1} / {n2} = {division}\")\n"
   ]
  },
  {
   "cell_type": "code",
   "execution_count": null,
   "id": "e71adbf3-14dc-4443-b037-b31603f26c9a",
   "metadata": {},
   "outputs": [],
   "source": []
  },
  {
   "cell_type": "code",
   "execution_count": 79,
   "id": "14c0b7d9-6f21-46f2-8bba-19f544d880a0",
   "metadata": {},
   "outputs": [
    {
     "name": "stdin",
     "output_type": "stream",
     "text": [
      "Enter the first number:  10\n",
      "Enter the second number:  3\n"
     ]
    },
    {
     "name": "stdout",
     "output_type": "stream",
     "text": [
      "Modulus : 1.0\n"
     ]
    }
   ],
   "source": [
    "\n",
    "# Get user input for two numbers\n",
    "n1 = float(input(\"Enter the first number: \"))\n",
    "n2 = float(input(\"Enter the second number: \"))\n",
    "\n",
    "# Display results\n",
    "\n",
    "remainder = n1 % n2\n",
    "print('Modulus :',remainder)\n"
   ]
  },
  {
   "cell_type": "code",
   "execution_count": null,
   "id": "902cabaa-d0d8-41f4-bd73-10d4d4f3b5df",
   "metadata": {},
   "outputs": [],
   "source": []
  },
  {
   "cell_type": "code",
   "execution_count": 6,
   "id": "ef714523-097a-4909-9583-10cb8760d044",
   "metadata": {},
   "outputs": [
    {
     "name": "stdin",
     "output_type": "stream",
     "text": [
      "Enter the first number:  10\n",
      "Enter the second number:  3\n"
     ]
    },
    {
     "name": "stdout",
     "output_type": "stream",
     "text": [
      "Exponentiation: 10.0 ** 3.0 = 1000.0\n"
     ]
    }
   ],
   "source": [
    "n1 = float(input(\"Enter the first number: \"))\n",
    "n2 = float(input(\"Enter the second number: \"))\n",
    "\n",
    "# Exponentiation (n1 raised to the power of n2)\n",
    "exponentiation = n1 ** n2\n",
    "\n",
    "# Display results\n",
    "\n",
    "print(f\"Exponentiation: {n1} ** {n2} = {exponentiation}\")\n"
   ]
  },
  {
   "cell_type": "code",
   "execution_count": null,
   "id": "3db49933-3320-457a-81f4-792dd197b050",
   "metadata": {},
   "outputs": [],
   "source": []
  },
  {
   "cell_type": "code",
   "execution_count": 80,
   "id": "3041d706-39cb-4c71-8723-52a7466e621e",
   "metadata": {},
   "outputs": [
    {
     "name": "stdin",
     "output_type": "stream",
     "text": [
      "Enter the first number:  10\n",
      "Enter the second number:  3\n"
     ]
    },
    {
     "name": "stdout",
     "output_type": "stream",
     "text": [
      "Floor Division: 10.0 // 3.0 = 3.0\n"
     ]
    }
   ],
   "source": [
    "# Get user input for two numbers\n",
    "n1 = float(input(\"Enter the first number: \"))\n",
    "n2 = float(input(\"Enter the second number: \"))\n",
    "\n",
    "# Perform calculations\n",
    "# floor division by zero\n",
    "floor_division = n1 // n2\n",
    "\n",
    "# Display results\n",
    "print(f\"Floor Division: {n1} // {n2} = {floor_division}\")\n"
   ]
  },
  {
   "cell_type": "code",
   "execution_count": null,
   "id": "0ac87fcd-c2ef-42e4-ba59-9982d4fadae9",
   "metadata": {},
   "outputs": [],
   "source": []
  },
  {
   "cell_type": "code",
   "execution_count": null,
   "id": "1b051049-7832-421a-8728-b7cb502a66c8",
   "metadata": {},
   "outputs": [],
   "source": [
    "# Exercise 2: Comparison Operators\n",
    "\n",
    "# Write a Python program that asks for two numbers and checks: "
   ]
  },
  {
   "cell_type": "code",
   "execution_count": 81,
   "id": "9c156bcb-468d-42f6-a0e4-045df57b0b8f",
   "metadata": {},
   "outputs": [
    {
     "name": "stdin",
     "output_type": "stream",
     "text": [
      "Enter the first number:  2\n",
      "Enter the second number:  3\n"
     ]
    },
    {
     "name": "stdout",
     "output_type": "stream",
     "text": [
      "n1 is less than or equal to n2 \n"
     ]
    }
   ],
   "source": [
    "# 1. If the first number is greater than the second. \n",
    "#2. If the first number is equal to the second. \n",
    "#3. If the first number is less than or equal to the second. \n",
    "\n",
    "n1 = float(input(\"Enter the first number: \"))\n",
    "n2 = float(input(\"Enter the second number: \"))\n",
    "\n",
    "if n1 > n2:                        # checks the 1st question\n",
    "    print(\"n1 is greater than n2\")\n",
    "elif n1 == n2:                      # checks the 2nd question\n",
    "    print(\"n1 is equal to n2\")\n",
    "else:\n",
    "    if n1 <= n2:                    # checks the 3rd question\n",
    "        print(\"n1 is less than or equal to n2 \")\n",
    "\n"
   ]
  },
  {
   "cell_type": "code",
   "execution_count": null,
   "id": "5982deaf-31af-43e0-b240-59af40a68619",
   "metadata": {},
   "outputs": [],
   "source": [
    "# Exercise 3: Logical Operators\n",
    "# Write a Python program that: \n",
    " # 1. Takes three boolean values (True or False) as input. \n",
    " # 2. Uses and, or, and not operators to return the result of combining them. \n"
   ]
  },
  {
   "cell_type": "code",
   "execution_count": 84,
   "id": "f23fcd38-956d-430e-8fb3-1baccbbfbd99",
   "metadata": {},
   "outputs": [
    {
     "name": "stdin",
     "output_type": "stream",
     "text": [
      "Enter First Boolean Value (True/False):  true\n",
      "Enter First Boolean Value (True/False):  false\n",
      "Enter First Boolean Value (True/False):  true\n"
     ]
    },
    {
     "name": "stdout",
     "output_type": "stream",
     "text": [
      "Result Of AND Operations: False\n",
      "Result Of OR Operation: True\n",
      "Not True: False\n",
      "Not False: True\n",
      "Not True: False\n"
     ]
    }
   ],
   "source": [
    "#Input from User(Converting String Input to Boolean)\n",
    "val1  = input(\"Enter First Boolean Value (True/False): \").strip().capitalize() == \"True\"\n",
    "val2  = input(\"Enter First Boolean Value (True/False): \").strip().capitalize() == \"True\"\n",
    "val3  = input(\"Enter First Boolean Value (True/False): \").strip().capitalize() == \"True\"\n",
    "\n",
    "#using and operator\n",
    "and_result = val1 and val2 and val3\n",
    "#using or operator\n",
    "or_result = val1 or val2 or val3\n",
    "#Using not operator on each value\n",
    "not_val1 = not val1\n",
    "not_val2 = not val2\n",
    "not_val3 = not val3\n",
    "\n",
    "#Display Results\n",
    "print(f\"Result Of AND Operations: {and_result}\")\n",
    "print(f\"Result Of OR Operation: {or_result}\")\n",
    "print(f\"Not {val1}: {not_val1}\")\n",
    "print(f\"Not {val2}: {not_val2}\")\n",
    "print(f\"Not {val3}: {not_val3}\")\n"
   ]
  },
  {
   "cell_type": "code",
   "execution_count": null,
   "id": "97587088-5e0e-4043-b803-5508f3f85db9",
   "metadata": {},
   "outputs": [],
   "source": []
  },
  {
   "cell_type": "code",
   "execution_count": null,
   "id": "38702066-5142-4b6c-8db1-859d40884aa1",
   "metadata": {},
   "outputs": [],
   "source": []
  },
  {
   "cell_type": "code",
   "execution_count": null,
   "id": "588bb7ed-bd21-4c72-a1f6-17ef68cafb1f",
   "metadata": {},
   "outputs": [],
   "source": [
    "# Part 2: Strings "
   ]
  },
  {
   "cell_type": "code",
   "execution_count": null,
   "id": "793d431b-e030-4519-961c-c89337240d13",
   "metadata": {},
   "outputs": [],
   "source": [
    "# Exercise 4: String Manipulation \n",
    "# 1. Take a string input from the user. \n",
    "# 2. Display the following: \n",
    "     o The length of the string. \n",
    "     o The first and last character. \n",
    "     o The string in reverse order. \n",
    "     o The string in uppercase and lowercase. "
   ]
  },
  {
   "cell_type": "code",
   "execution_count": 14,
   "id": "48f9d37a-80c3-4d64-a74e-bc2956374f5c",
   "metadata": {},
   "outputs": [
    {
     "name": "stdin",
     "output_type": "stream",
     "text": [
      "Enter the word = string\n"
     ]
    },
    {
     "name": "stdout",
     "output_type": "stream",
     "text": [
      "6\n"
     ]
    }
   ],
   "source": [
    "# The length of the string.\n",
    "\n",
    "S=input(\"Enter the word =\")\n",
    "\n",
    "length=len(S)\n",
    "print(length)"
   ]
  },
  {
   "cell_type": "code",
   "execution_count": 15,
   "id": "c8159713-ac19-43ee-b89f-c9f78fe8ac3c",
   "metadata": {},
   "outputs": [
    {
     "name": "stdin",
     "output_type": "stream",
     "text": [
      "Enter the word = string\n"
     ]
    },
    {
     "name": "stdout",
     "output_type": "stream",
     "text": [
      "First character: s\n",
      "Last character: g\n"
     ]
    }
   ],
   "source": [
    "#  The first and last character. \n",
    "\n",
    "S=input(\"Enter the word =\")\n",
    "first_char = S[0]     # First character\n",
    "last_char = S[-1]     # Last character\n",
    "print(\"First character:\", first_char)\n",
    "print(\"Last character:\", last_char)"
   ]
  },
  {
   "cell_type": "code",
   "execution_count": 16,
   "id": "cba2286b-febb-4999-90dc-3dcbf47a0785",
   "metadata": {},
   "outputs": [
    {
     "name": "stdin",
     "output_type": "stream",
     "text": [
      "Enter the word = string\n"
     ]
    },
    {
     "name": "stdout",
     "output_type": "stream",
     "text": [
      "gnirts\n"
     ]
    }
   ],
   "source": [
    "# The string in reverse order.\n",
    "\n",
    "S=input(\"Enter the word =\")\n",
    "reversed_string = S[::-1]\n",
    "print(reversed_string)\n"
   ]
  },
  {
   "cell_type": "code",
   "execution_count": 17,
   "id": "50a27256-44f9-4fee-a562-6a8a12e43fdf",
   "metadata": {},
   "outputs": [
    {
     "name": "stdin",
     "output_type": "stream",
     "text": [
      "Enter the word = string\n"
     ]
    },
    {
     "name": "stdout",
     "output_type": "stream",
     "text": [
      "Uppercase: STRING\n",
      "Lowercase: string\n"
     ]
    }
   ],
   "source": [
    "# The string in uppercase and lowercase.\n",
    "\n",
    "S=input(\"Enter the word =\")\n",
    "# Convert to uppercase\n",
    "uppercase_string = S.upper()\n",
    "\n",
    "# Convert to lowercase\n",
    "lowercase_string = S.lower()\n",
    "\n",
    "print(\"Uppercase:\", uppercase_string)\n",
    "print(\"Lowercase:\", lowercase_string)\n"
   ]
  },
  {
   "cell_type": "code",
   "execution_count": null,
   "id": "ebe480d1-37d1-4bf7-9b6b-c75311837e3f",
   "metadata": {},
   "outputs": [],
   "source": [
    "# Exercise 5: String Formatting \n",
    "\n",
    "# Write a program that asks for the user's name and age, and displays the message in this format:"
   ]
  },
  {
   "cell_type": "code",
   "execution_count": 20,
   "id": "9a33aab2-d921-45e5-ab0f-5ea919f0824d",
   "metadata": {},
   "outputs": [
    {
     "name": "stdin",
     "output_type": "stream",
     "text": [
      "Enter the name= manish kumar\n",
      "Enter the age= 22\n"
     ]
    },
    {
     "name": "stdout",
     "output_type": "stream",
     "text": [
      "Hello manish kumar you are 22 years old.\n"
     ]
    }
   ],
   "source": [
    "# taking inputs for name and age\n",
    "\n",
    "name=input(\"Enter the name=\")\n",
    "age=int(input(\"Enter the age=\"))\n",
    "\n",
    "# printing the result\n",
    "\n",
    "print(\"Hello\",name, \"you are\",age,\"years old.\" )"
   ]
  },
  {
   "cell_type": "code",
   "execution_count": null,
   "id": "52eae776-486f-44f9-baa0-7771c359fc6d",
   "metadata": {},
   "outputs": [],
   "source": [
    "# Exercise 6: Substring Search \n",
    "\n",
    "# Write a Python program that: \n",
    "# 1. Asks for a sentence input from the user. \n",
    "# 2. Asks for a word to search in the sentence. \n",
    "# 3. Outputs whether the word exists in the sentence and, if it does, at which position (index). \n"
   ]
  },
  {
   "cell_type": "code",
   "execution_count": 32,
   "id": "969e228d-99ae-4fbf-9e15-790ee4bc2f90",
   "metadata": {},
   "outputs": [
    {
     "name": "stdin",
     "output_type": "stream",
     "text": [
      "Enter the sentence= hello i am manish kumar\n",
      "Enter the word= manish\n"
     ]
    },
    {
     "name": "stdout",
     "output_type": "stream",
     "text": [
      "The letter manish is found at index 11\n"
     ]
    }
   ],
   "source": [
    "# taking inputs for sentence and word\n",
    "\n",
    "I=input(\"Enter the sentence=\")\n",
    "W=input(\"Enter the word=\")\n",
    "\n",
    "# determine the index of a word\n",
    "position=I.index(W)\n",
    "\n",
    "# using if-else statement to check and detemine the index of a word\n",
    "\n",
    "if position != -1:\n",
    "    print(\"The letter\",W,\"is found at index\",position)\n",
    "else:\n",
    "    print(\"The letter\",W,\"is not found in the sentence\")\n",
    "    "
   ]
  },
  {
   "cell_type": "code",
   "execution_count": null,
   "id": "541ae595-f825-42c6-8ae0-291fc9175e5e",
   "metadata": {},
   "outputs": [],
   "source": [
    "# Part 3: Lists\n",
    "\n",
    "# Exercise 7: List Operations \n"
   ]
  },
  {
   "cell_type": "code",
   "execution_count": null,
   "id": "b91516e4-6c05-47a7-9c45-069c93eac1bb",
   "metadata": {},
   "outputs": [],
   "source": [
    "# Write a Python program that: \n",
    " 1. Creates a list of 5 numbers (input from the user). \n",
    " 2. Displays the sum of all the numbers in the list. \n",
    " 3. Finds the largest and smallest number in the list."
   ]
  },
  {
   "cell_type": "code",
   "execution_count": 40,
   "id": "adf5f8a0-5295-4a66-a5ca-d1de5ede3aaa",
   "metadata": {},
   "outputs": [
    {
     "name": "stdin",
     "output_type": "stream",
     "text": [
      "Enter the number= 2\n",
      "Enter the number= 3\n",
      "Enter the number= 4\n",
      "Enter the number= 5\n",
      "Enter the number= 6\n"
     ]
    },
    {
     "name": "stdout",
     "output_type": "stream",
     "text": [
      "the sum is = 20\n",
      "the maximum value is= 6\n",
      "the minimum value is = 2\n"
     ]
    }
   ],
   "source": [
    "# taking inputs\n",
    "\n",
    "a1=int(input(\"Enter the number=\"))\n",
    "a2=int(input(\"Enter the number=\"))\n",
    "a3=int(input(\"Enter the number=\"))\n",
    "a4=int(input(\"Enter the number=\"))\n",
    "a5=int(input(\"Enter the number=\"))\n",
    "\n",
    "# creating a list\n",
    "\n",
    "l=[a1,a2,a3,a4,a5]\n",
    "\n",
    "# printing result of sum, max-value, min-value\n",
    "\n",
    "print(\"the sum is =\",sum(l))\n",
    "\n",
    "print(\"the maximum value is=\",max(l))\n",
    "\n",
    "print(\"the minimum value is =\",min(l))\n",
    "\n",
    "\n",
    "\n"
   ]
  },
  {
   "cell_type": "code",
   "execution_count": null,
   "id": "ee7bb127-e191-41a7-80e9-aa9aa30f0dd5",
   "metadata": {},
   "outputs": [],
   "source": [
    "# Exercise 8: List Manipulation\n",
    "\n",
    "# 1. Create a list of 5 of your favorite fruits. \n",
    "# 2. Perform the following: \n",
    " o Add one more fruit to the list. \n",
    " o Remove the second fruit from the list. \n",
    " o Print the updated list. "
   ]
  },
  {
   "cell_type": "code",
   "execution_count": 53,
   "id": "729eaacc-bd8d-4192-afcd-7f4cde42d042",
   "metadata": {},
   "outputs": [
    {
     "name": "stdin",
     "output_type": "stream",
     "text": [
      "Enter the fruit to be inserted= guava\n",
      "Enter the fruit to be removed= mango\n"
     ]
    },
    {
     "name": "stdout",
     "output_type": "stream",
     "text": [
      "['apple', 'guava', 'banana', 'pomegranate', 'guava']\n"
     ]
    }
   ],
   "source": [
    "# taking a list of 5 fruits\n",
    "\n",
    "Fruits=['apple','mango','banana','pomegranate','guava']\n",
    "\n",
    "# taking inputs for inserting and removing \n",
    "\n",
    "myin=input(\"Enter the fruit to be inserted=\")\n",
    "myre=input(\"Enter the fruit to be removed=\")\n",
    "\n",
    "# insert and remove operations\n",
    "Fruits.insert(2,myin)\n",
    "Fruits.remove(myre)\n",
    "# print result\n",
    "print(Fruits)\n",
    "\n"
   ]
  },
  {
   "cell_type": "code",
   "execution_count": null,
   "id": "c324f3ac-b185-4701-a060-4afb487df647",
   "metadata": {},
   "outputs": [],
   "source": []
  },
  {
   "cell_type": "code",
   "execution_count": null,
   "id": "502ac8ba-ce9a-4570-862e-7d52b9d20c0d",
   "metadata": {},
   "outputs": [],
   "source": [
    "# Exercise 9: Sorting a List \n",
    "\n",
    "# Write a Python program that: \n",
    "# 1. Asks the user to input a list of 5 numbers. \n",
    "# 2. Sorts the list in ascending order and displays it. \n",
    "# 3. Sorts the list in descending order and displays it."
   ]
  },
  {
   "cell_type": "code",
   "execution_count": 56,
   "id": "baaae18c-b4e6-4606-bab1-4bb405a46827",
   "metadata": {},
   "outputs": [
    {
     "name": "stdin",
     "output_type": "stream",
     "text": [
      "Enter the num1= 5\n",
      "Enter the num2=  7\n",
      "Enter the num3= 8\n",
      "Enter the num4= 9\n",
      "Enter the num5= 3\n"
     ]
    },
    {
     "name": "stdout",
     "output_type": "stream",
     "text": [
      "[3, 5, 7, 8, 9]\n",
      "[9, 8, 7, 5, 3]\n"
     ]
    }
   ],
   "source": [
    "# taking inputs\n",
    "\n",
    "num1=int(input(\"Enter the num1=\"))\n",
    "num2=int(input(\"Enter the num2= \"))\n",
    "num3=int(input(\"Enter the num3=\"))\n",
    "num4=int(input(\"Enter the num4=\"))\n",
    "num5=int(input(\"Enter the num5=\"))\n",
    "\n",
    "# making a list\n",
    "\n",
    "l=[num1,num2,num3,num4,num5]\n",
    "\n",
    "# sorting list in ascending order\n",
    "l.sort()\n",
    "print(l)\n",
    "# sorting list in descending order\n",
    "l.sort(reverse=True)\n",
    "print(l)\n",
    "\n"
   ]
  },
  {
   "cell_type": "code",
   "execution_count": null,
   "id": "4bdb1180-bfb7-4d5b-a4ce-a702607df4f4",
   "metadata": {},
   "outputs": [],
   "source": [
    "# Exercise 10: List Slicing \n",
    "\n",
    "# Given the list numbers = [1, 2, 3, 4, 5, 6, 7, 8, 9, 10], perform the following: \n",
    "# 1. Print the first 5 elements. \n",
    "# 2. Print the last 5 elements. \n",
    "# 3. Print the elements from index 2 to index 7. \n"
   ]
  },
  {
   "cell_type": "code",
   "execution_count": 63,
   "id": "c7914b8c-d8bf-456f-bbe4-fbd0f7f1650c",
   "metadata": {},
   "outputs": [
    {
     "name": "stdout",
     "output_type": "stream",
     "text": [
      "[1, 2, 3, 4, 5]\n",
      "[6, 7, 8, 9, 10]\n",
      "[3, 4, 5, 6, 7, 8]\n"
     ]
    }
   ],
   "source": [
    "# given list\n",
    "numbers=[1,2,3,4,5,6,7,8,9,10]\n",
    "\n",
    "# printing first 5 numbers\n",
    "print(numbers[:5])\n",
    "# printing last 5 numbers\n",
    "print(numbers[-5:])\n",
    "# printing numbers between index 2-7 \n",
    "print(numbers[2:8])"
   ]
  },
  {
   "cell_type": "code",
   "execution_count": null,
   "id": "fd4b85c4-c417-4728-a932-179d7b34fb87",
   "metadata": {},
   "outputs": [],
   "source": [
    "# Exercise 11: Nested List\n",
    "\n",
    "# Write a Python program that: \n",
    " 1. Takes input of 3 students' names and their respective scores in 3 subjects. \n",
    " 2. Stores them in a nested list. \n",
    " 3. Prints each student's name and their average score."
   ]
  },
  {
   "cell_type": "code",
   "execution_count": 76,
   "id": "c72fd920-4b82-46e0-bcb7-d5bb43aaf8d3",
   "metadata": {},
   "outputs": [
    {
     "name": "stdin",
     "output_type": "stream",
     "text": [
      "Enter the 1st student= aman\n",
      "Marks in physics= 78\n",
      "Marks in chemistry= 89\n",
      "Marks in maths= 90\n"
     ]
    },
    {
     "name": "stdout",
     "output_type": "stream",
     "text": [
      "[['aman'], [78, 89, 90]]\n"
     ]
    },
    {
     "name": "stdin",
     "output_type": "stream",
     "text": [
      "Enter the 2nd student= manish\n",
      "Marks in physics= 98\n",
      "Marks in chemistry= 99\n",
      "Marks in maths= 97\n"
     ]
    },
    {
     "name": "stdout",
     "output_type": "stream",
     "text": [
      "[['manish'], [98, 99, 97]]\n"
     ]
    },
    {
     "name": "stdin",
     "output_type": "stream",
     "text": [
      "Enter the 3rd student= ravi\n",
      "Marks in physics= 56\n",
      "Marks in chemistry= 45\n",
      "Marks in maths= 67\n"
     ]
    },
    {
     "name": "stdout",
     "output_type": "stream",
     "text": [
      "[['ravi'], [56, 45, 67]]\n",
      "aman average score is 85.66666666666667\n",
      "manish average score is 85.66666666666667\n",
      "ravi average score is 85.66666666666667\n"
     ]
    }
   ],
   "source": [
    "# input of 1st student\n",
    "\n",
    "s1=input(\"Enter the 1st student=\")\n",
    "a1=int(input(\"Marks in physics=\"))\n",
    "a2=int(input(\"Marks in chemistry=\"))\n",
    "a3=int(input(\"Marks in maths=\"))\n",
    "x=[[s1],[a1,a2,a3]]               #nested list\n",
    "print(x)\n",
    "\n",
    "# input for 2nd student\n",
    "\n",
    "s2=input(\"Enter the 2nd student=\")\n",
    "a4=int(input(\"Marks in physics=\"))\n",
    "a5=int(input(\"Marks in chemistry=\"))\n",
    "a6=int(input(\"Marks in maths=\"))\n",
    "x1=[[s2],[a4,a5,a6]]                #nested list\n",
    "print(x1)\n",
    "\n",
    "# input for 3rd student\n",
    "\n",
    "s3=input(\"Enter the 3rd student=\")\n",
    "a7=int(input(\"Marks in physics=\"))\n",
    "a8=int(input(\"Marks in chemistry=\"))\n",
    "a9=int(input(\"Marks in maths=\"))\n",
    "x3=[[s3],[a7,a8,a9]]                #nested list\n",
    "print(x3)\n",
    "\n",
    "\n",
    "# calculations for average score\n",
    "\n",
    "avg=(a1+a2+a3)/3\n",
    "avg1=(a4+a5+a6)/3\n",
    "avg2=(a7+a8+a9)/3\n",
    "\n",
    "# printing result\n",
    "\n",
    "print(s1,'average score is',avg)\n",
    "print(s2,'average score is',avg)\n",
    "print(s3,'average score is',avg)"
   ]
  },
  {
   "cell_type": "code",
   "execution_count": null,
   "id": "26277fa8-3de5-4cd3-aad7-2a34c7aebb92",
   "metadata": {},
   "outputs": [],
   "source": []
  },
  {
   "cell_type": "code",
   "execution_count": null,
   "id": "ed1d5d8d-9e15-4230-af8f-a03be0d55b8a",
   "metadata": {},
   "outputs": [],
   "source": []
  },
  {
   "cell_type": "code",
   "execution_count": null,
   "id": "bbe58058-38d2-41d8-aee3-2486f2a7bf40",
   "metadata": {},
   "outputs": [],
   "source": []
  },
  {
   "cell_type": "code",
   "execution_count": null,
   "id": "8259d27b-2392-420a-9ff3-82eef51744f7",
   "metadata": {},
   "outputs": [],
   "source": []
  },
  {
   "cell_type": "code",
   "execution_count": null,
   "id": "4e63cb69-66e8-4af4-9fc7-aaf1ae09d43a",
   "metadata": {},
   "outputs": [],
   "source": []
  },
  {
   "cell_type": "code",
   "execution_count": null,
   "id": "00cb6ae4-31b2-481c-a6de-b62c0ff4480e",
   "metadata": {},
   "outputs": [],
   "source": []
  },
  {
   "cell_type": "code",
   "execution_count": null,
   "id": "be504642-1e62-41c9-b043-99d326736d98",
   "metadata": {},
   "outputs": [],
   "source": []
  },
  {
   "cell_type": "code",
   "execution_count": null,
   "id": "61b3aada-75d0-45ab-b1f1-b42f16af0a8b",
   "metadata": {},
   "outputs": [],
   "source": []
  },
  {
   "cell_type": "code",
   "execution_count": null,
   "id": "345dae31-c48b-4e65-a604-ef46e06487a1",
   "metadata": {},
   "outputs": [],
   "source": []
  }
 ],
 "metadata": {
  "kernelspec": {
   "display_name": "Python 3 (ipykernel)",
   "language": "python",
   "name": "python3"
  },
  "language_info": {
   "codemirror_mode": {
    "name": "ipython",
    "version": 3
   },
   "file_extension": ".py",
   "mimetype": "text/x-python",
   "name": "python",
   "nbconvert_exporter": "python",
   "pygments_lexer": "ipython3",
   "version": "3.12.4"
  }
 },
 "nbformat": 4,
 "nbformat_minor": 5
}
